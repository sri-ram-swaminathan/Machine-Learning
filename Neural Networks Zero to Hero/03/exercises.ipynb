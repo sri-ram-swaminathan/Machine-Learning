{
 "cells": [
  {
   "cell_type": "code",
   "execution_count": 1,
   "id": "bd5b40fd",
   "metadata": {},
   "outputs": [],
   "source": [
    "import random\n",
    "import pandas as pd\n",
    "import matplotlib.pyplot as plt \n",
    "import torch\n",
    "import torch.nn.functional as F \n",
    "%matplotlib inline\n",
    "\n",
    "words = open('names.txt', 'r').read().splitlines()\n",
    "chars = sorted(list(set(''.join(words))))\n",
    "stoi = {s:i+1 for i,s in enumerate(chars)}\n",
    "stoi['.'] = 0\n",
    "itos = {i:s for s,i in stoi.items()}"
   ]
  },
  {
   "cell_type": "code",
   "execution_count": 2,
   "id": "01ecea3a",
   "metadata": {},
   "outputs": [
    {
     "name": "stdout",
     "output_type": "stream",
     "text": [
      "There are 182625 training samples\n",
      "There are 22655 validation samples\n",
      "There are 22866 testing samples\n",
      "Each input vector has dimension 3 and each output vector has a single dimension\n"
     ]
    }
   ],
   "source": [
    "# Create dataset and split into train, val, test \n",
    "random.seed(42)\n",
    "random.shuffle(words)\n",
    "\n",
    "def build_dataset(words):\n",
    "    block_size = 3\n",
    "    X, Y = [], []\n",
    "\n",
    "    for w in words:\n",
    "        context = [0] * block_size\n",
    "        for chr in w + '.':\n",
    "            ix = stoi[chr]\n",
    "            X.append(context) \n",
    "            Y.append(ix)\n",
    "            context = context[1:] + [ix]\n",
    "\n",
    "    X = torch.tensor(X)\n",
    "    Y = torch.tensor(Y)\n",
    "\n",
    "    return X, Y\n",
    "\n",
    "n1 = int(0.8*len(words))\n",
    "n2 = int(0.9*len(words)) \n",
    "\n",
    "X_tr, Y_tr = build_dataset(words[:n1])\n",
    "X_de, Y_de = build_dataset(words[n1:n2])\n",
    "X_te, Y_te = build_dataset(words[n2:])\n",
    "\n",
    "print(f\"There are {X_tr.shape[0]} training samples\")\n",
    "print(f\"There are {X_de.shape[0]} validation samples\")\n",
    "print(f\"There are {X_te.shape[0]} testing samples\")\n",
    "print(f\"Each input vector has dimension {X_tr.shape[1]} and each output vector has a single dimension\")"
   ]
  },
  {
   "cell_type": "markdown",
   "id": "7e623faa",
   "metadata": {},
   "source": [
    "**1. Tune the hyperparameters of the training to beat my best validation loss of 2.2**"
   ]
  },
  {
   "cell_type": "markdown",
   "id": "486d2d7f",
   "metadata": {},
   "source": [
    "The hyperparameters of our network are: \n",
    "\n",
    "1. Embedding dimensions \n",
    "2. Number of neurons in hidden layer \n",
    "3. Learning rate \n",
    "4. Activation function\n",
    "5. Size of mini-batch i.e. number of examples\n",
    "6. Number of layers\n",
    "7. Number of training epochs\n",
    "\n",
    "In the lecture Andrej reduces the validation loss by tweaking the learning rate and the embedding dimensions. \n",
    "\n",
    "Experiment results:\n",
    "\n",
    "- I tried adding another layer to it, but that ended up making performance poorer. I chose not to sit and optimize that larger problem due to time constraints.\n",
    "- Using an exponential function for the non-linearity makes the loss blow up to $\\infty$ since the function blows up to large values as inputs are increased\n",
    "- I also tried adjusting the learning rate based on the loss, something like \"lr = 0.0.1 if loss.item()<=2.2 else 0.0001\". But for some reason this leads to very poor optimization and the final loss was horrible."
   ]
  },
  {
   "cell_type": "code",
   "execution_count": 3,
   "id": "7592cb24",
   "metadata": {},
   "outputs": [
    {
     "name": "stderr",
     "output_type": "stream",
     "text": [
      "C:\\Users\\srira\\AppData\\Local\\Temp\\ipykernel_6284\\3066229491.py:46: FutureWarning: The behavior of DataFrame concatenation with empty or all-NA entries is deprecated. In a future version, this will no longer exclude empty or all-NA columns when determining the result dtypes. To retain the old behavior, exclude the relevant entries before the concat operation.\n",
      "  results = pd.concat([results, row], ignore_index=True)\n"
     ]
    }
   ],
   "source": [
    "import torch\n",
    "import torch.nn.functional as F\n",
    "import pandas as pd\n",
    "\n",
    "embedding_dimensions = [5, 10, 20]\n",
    "results = pd.DataFrame(columns=['embedding size', 'dev loss'])\n",
    "\n",
    "for dimension in embedding_dimensions:\n",
    "    g = torch.Generator().manual_seed(2147483647)\n",
    "\n",
    "    # Parameter initialization\n",
    "    C = torch.randn((27, dimension), generator=g)\n",
    "    W1 = torch.randn((dimension * 3, 200), generator=g)\n",
    "    b1 = torch.randn(200, generator=g)\n",
    "    W2 = torch.randn((200, 27), generator=g)\n",
    "    b2 = torch.randn(27, generator=g)\n",
    "    parameters = [C, W1, b1, W2, b2]\n",
    "\n",
    "    for p in parameters:\n",
    "        p.requires_grad = True\n",
    "\n",
    "    # Training loop\n",
    "    for i in range(200000):\n",
    "        ix = torch.randint(0, X_tr.shape[0], (80,))\n",
    "        emb = C[X_tr[ix]]                             # (80, 3, dimension)\n",
    "        h = torch.tanh(emb.view(-1, dimension * 3) @ W1 + b1)\n",
    "        logits = h @ W2 + b2\n",
    "        loss = F.cross_entropy(logits, Y_tr[ix])\n",
    "\n",
    "        for p in parameters:\n",
    "            p.grad = None\n",
    "        loss.backward()\n",
    "\n",
    "        lr = 0.01 if i <= 100000 else 0.001\n",
    "        for p in parameters:\n",
    "            p.data += -lr * p.grad\n",
    "\n",
    "    # Dev loss computation\n",
    "    emb_de = C[X_de]                                 # (num_dev, 3, dimension)\n",
    "    h_de = torch.tanh(emb_de.view(-1, dimension * 3) @ W1 + b1)\n",
    "    logits_de = h_de @ W2 + b2\n",
    "    loss_de = F.cross_entropy(logits_de, Y_de).item()\n",
    "\n",
    "    # Store results\n",
    "    row = pd.DataFrame({'embedding size': [dimension], 'dev loss': [loss_de]})\n",
    "    results = pd.concat([results, row], ignore_index=True)\n",
    "\n"
   ]
  },
  {
   "cell_type": "code",
   "execution_count": 4,
   "id": "6ed11812",
   "metadata": {},
   "outputs": [
    {
     "data": {
      "image/png": "[encoded data removed]",
      "text/plain": [
       "<Figure size 640x480 with 1 Axes>"
      ]
     },
     "metadata": {},
     "output_type": "display_data"
    }
   ],
   "source": [
    "plt.plot(results['embedding size'],results['dev loss']);"
   ]
  },
  {
   "cell_type": "code",
   "execution_count": 5,
   "id": "70cfc8dc",
   "metadata": {},
   "outputs": [
    {
     "name": "stderr",
     "output_type": "stream",
     "text": [
      "C:\\Users\\srira\\AppData\\Local\\Temp\\ipykernel_6284\\4099945594.py:46: FutureWarning: The behavior of DataFrame concatenation with empty or all-NA entries is deprecated. In a future version, this will no longer exclude empty or all-NA columns when determining the result dtypes. To retain the old behavior, exclude the relevant entries before the concat operation.\n",
      "  results = pd.concat([results, row], ignore_index=True)\n"
     ]
    }
   ],
   "source": [
    "import torch\n",
    "import torch.nn.functional as F\n",
    "import pandas as pd\n",
    "\n",
    "neurons = [200, 300, 400]\n",
    "results = pd.DataFrame(columns=['width', 'dev loss'])\n",
    "\n",
    "for width in neurons:\n",
    "    g = torch.Generator().manual_seed(2147483647)\n",
    "\n",
    "    # Parameter initialization\n",
    "    C = torch.randn((27, 10), generator=g)\n",
    "    W1 = torch.randn((30, width), generator=g)\n",
    "    b1 = torch.randn(width, generator=g)\n",
    "    W2 = torch.randn((width, 27), generator=g)\n",
    "    b2 = torch.randn(27, generator=g)\n",
    "    parameters = [C, W1, b1, W2, b2]\n",
    "\n",
    "    for p in parameters:\n",
    "        p.requires_grad = True\n",
    "\n",
    "    # Training loop\n",
    "    for i in range(200000):\n",
    "        ix = torch.randint(0, X_tr.shape[0], (80,))\n",
    "        emb = C[X_tr[ix]]                              # shape (80, 3, 10)\n",
    "        h = torch.tanh(emb.view(-1, 30) @ W1 + b1)      # collapse to (80, 30)\n",
    "        logits = h @ W2 + b2\n",
    "        loss = F.cross_entropy(logits, Y_tr[ix])\n",
    "\n",
    "        for p in parameters:\n",
    "            p.grad = None\n",
    "        loss.backward()\n",
    "\n",
    "        lr = 0.01 if i <= 100000 else 0.001\n",
    "        for p in parameters:\n",
    "            p.data += -lr * p.grad\n",
    "\n",
    "    # Dev loss calculation\n",
    "    emb_de = C[X_de]                                  # shape (dev_size, 3, 10)\n",
    "    h_de = torch.tanh(emb_de.view(-1, 30) @ W1 + b1)\n",
    "    logits_de = h_de @ W2 + b2\n",
    "    loss_de = F.cross_entropy(logits_de, Y_de).item()  # convert to float\n",
    "\n",
    "    # Save results\n",
    "    row = pd.DataFrame({'width': [width], 'dev loss': [loss_de]})\n",
    "    results = pd.concat([results, row], ignore_index=True)\n"
   ]
  },
  {
   "cell_type": "code",
   "execution_count": 6,
   "id": "a3d15535",
   "metadata": {},
   "outputs": [
    {
     "data": {
      "image/png": "[encoded data removed]",
      "text/plain": [
       "<Figure size 640x480 with 1 Axes>"
      ]
     },
     "metadata": {},
     "output_type": "display_data"
    }
   ],
   "source": [
    "plt.plot(results['width'],results['dev loss']);"
   ]
  },
  {
   "cell_type": "code",
   "execution_count": null,
   "id": "90eef400",
   "metadata": {},
   "outputs": [
    {
     "name": "stderr",
     "output_type": "stream",
     "text": [
      "C:\\Users\\srira\\AppData\\Local\\Temp\\ipykernel_6284\\459871499.py:47: FutureWarning: The behavior of DataFrame concatenation with empty or all-NA entries is deprecated. In a future version, this will no longer exclude empty or all-NA columns when determining the result dtypes. To retain the old behavior, exclude the relevant entries before the concat operation.\n",
      "  results = pd.concat([results, row], ignore_index=True)\n"
     ]
    }
   ],
   "source": [
    "import torch\n",
    "import torch.nn.functional as F\n",
    "import pandas as pd\n",
    "\n",
    "mini_batches = [30, 60, 80]\n",
    "results = pd.DataFrame(columns=['size', 'dev loss'])\n",
    "\n",
    "for size in mini_batches:\n",
    "    g = torch.Generator().manual_seed(2147483647)\n",
    "    \n",
    "    # Model parameters\n",
    "    C = torch.randn((27, 10), generator=g)\n",
    "    W1 = torch.randn((30, 200), generator=g)\n",
    "    b1 = torch.randn(200, generator=g)\n",
    "    W2 = torch.randn((200, 27), generator=g)\n",
    "    b2 = torch.randn(27, generator=g)\n",
    "    parameters = [C, W1, b1, W2, b2]\n",
    "\n",
    "    for p in parameters:\n",
    "        p.requires_grad = True\n",
    "\n",
    "    # Training loop\n",
    "    for i in range(200000):\n",
    "        ix = torch.randint(0, X_tr.shape[0], (size,))\n",
    "\n",
    "        emb = C[X_tr[ix]]                               # shape: (size, 3, 10)\n",
    "        h = torch.tanh(emb.view(-1, 30) @ W1 + b1)       # shape: (size, 200)\n",
    "        logits = h @ W2 + b2\n",
    "        loss = F.cross_entropy(logits, Y_tr[ix])\n",
    "\n",
    "        for p in parameters:\n",
    "            p.grad = None\n",
    "        loss.backward()\n",
    "\n",
    "        lr = 0.01 if i <= 100000 else 0.001\n",
    "        for p in parameters:\n",
    "            p.data += -lr * p.grad\n",
    "\n",
    "    # Evaluate on dev set\n",
    "    emb_de = C[X_de]                                    # shape: (dev_size, 3, 10)\n",
    "    h_de = torch.tanh(emb_de.view(-1, 30) @ W1 + b1)\n",
    "    logits_de = h_de @ W2 + b2\n",
    "    loss_de = F.cross_entropy(logits_de, Y_de).item()   # scalar\n",
    "\n",
    "    # Store result\n",
    "    row = pd.DataFrame({'size': [size], 'dev loss': [loss_de]})\n",
    "    results = pd.concat([results, row], ignore_index=True)"
   ]
  },
  {
   "cell_type": "code",
   "execution_count": null,
   "id": "4f7404c6",
   "metadata": {},
   "outputs": [],
   "source": [
    "plt.plot(results['size'],results['dev loss']);"
   ]
  },
  {
   "cell_type": "markdown",
   "id": "06cec929",
   "metadata": {},
   "source": [
    "**2. I was not careful with the intialization of the network in this video. (1) What is the loss you'd get if the predicted probabilities at initialization were perfectly uniform? What loss do we achieve? (2) Can you tune the initialization to get a starting loss that is much more similar to (1)?**"
   ]
  },
  {
   "cell_type": "markdown",
   "id": "1b758f25",
   "metadata": {},
   "source": [
    "Since we have 27 possible characters (alphabet + '.' for end), uniform probability would mean that each character has a 1/27 chance of being next. \n",
    "\n",
    "The log liklihood loss is calculated as follows:\n",
    "\n",
    "Let $x$ be the 27 dimensional output of the network \n",
    "\n",
    "1. Compute $e^{i}$, where $i$ is one dimension of the output\n",
    "\n",
    "2. Normalize the counts, $e^{i} = \\frac{e^{i}}{\\sum_{j=1}^{27}e^{j}}$. This is the probability for letter $i$ to be next character \n",
    "\n",
    "Now, we want it to be the case that $e^{i} = \\frac{1}{27}$ for all $i$\n",
    "\n",
    "Which means, \n",
    "\n",
    "$\\frac{e^{i}}{27 \\cdot e^{i}} = \\frac{1}{27}$\n",
    "\n",
    "Hence, as long as all the counts are the same constant value, we are happy. It doesn't matter which one. \n",
    "\n",
    "The loss then will simply be $ -log(\\frac{1}{27}) = 3.295$\n",
    "\n",
    "🚨 The results below are from direct initialization --> prediction on validation set"
   ]
  },
  {
   "cell_type": "code",
   "execution_count": null,
   "id": "f0059cd0",
   "metadata": {},
   "outputs": [
    {
     "name": "stdout",
     "output_type": "stream",
     "text": [
      "True\n",
      "3.295836925506592\n"
     ]
    }
   ],
   "source": [
    "# Initializing all values to either 0 or 1 is simplest \n",
    "logits_zeros = torch.zeros((X_de.shape[0], 27))\n",
    "loss_zeroes = F.cross_entropy(logits_zeros, Y_de)\n",
    "\n",
    "logits_ones = torch.ones((X_de.shape[0], 27))\n",
    "loss_ones = F.cross_entropy(logits_ones, Y_de)\n",
    "\n",
    "print(torch.equal(loss_ones, loss_zeroes))\n",
    "print(loss_ones.item())"
   ]
  },
  {
   "cell_type": "markdown",
   "id": "3655e9fc",
   "metadata": {},
   "source": [
    "The easy way to initialize would be to just make all the weights the same constant, like 1/0. Same answer as above confirmed. \n",
    "\n",
    "Let's instead use some methods from https://en.wikipedia.org/wiki/Weight_initialization \n",
    "\n",
    "In particular, I picked Xavier initialization:\n",
    "\n",
    "Each entry for $W^{l}$ is made from a uniform distribution in the range: $[-U, U]$, where $U = \\sqrt{\\frac{6}{n_{l}+n_{l+1}}}$"
   ]
  },
  {
   "cell_type": "code",
   "execution_count": null,
   "id": "2b2ffc74",
   "metadata": {},
   "outputs": [
    {
     "name": "stdout",
     "output_type": "stream",
     "text": [
      "3.3220431804656982\n"
     ]
    }
   ],
   "source": [
    "g = torch.Generator().manual_seed(2147483647)\n",
    "C = torch.randn((27,10), generator=g) # The embedding matrix can remain random, making it constant doesn't improve a lot\n",
    "n11, n12 = 30, 200\n",
    "U1 = (6/(n11+n12)) ** 1/2 \n",
    "W1 = torch.empty((30, 200)).uniform_(-U1,U1)\n",
    "B1 = torch.ones(200)\n",
    "n21, n22 = 200, 27 \n",
    "U2 = (6/(n21+n22)) ** 1/2\n",
    "W2 = torch.empty((200, 27)).uniform_(-U2,U2)\n",
    "B2 = torch.ones(27)\n",
    "\n",
    "embd = C[X_de]\n",
    "h = torch.tanh(embd.view(-1,30) @ W1 + B1)\n",
    "logits = h @ W2 + B2\n",
    "loss = F.cross_entropy(logits, Y_de)\n",
    "print(loss.item())"
   ]
  },
  {
   "cell_type": "markdown",
   "id": "16512f58",
   "metadata": {},
   "source": [
    "**3. Read the Bengio et al 2003 paper, implement and try any idea from the paper. Did it work?**"
   ]
  },
  {
   "cell_type": "code",
   "execution_count": null,
   "id": "e296cf97",
   "metadata": {},
   "outputs": [],
   "source": []
  }
 ],
 "metadata": {
  "kernelspec": {
   "display_name": "nn",
   "language": "python",
   "name": "python3"
  },
  "language_info": {
   "codemirror_mode": {
    "name": "ipython",
    "version": 3
   },
   "file_extension": ".py",
   "mimetype": "text/x-python",
   "name": "python",
   "nbconvert_exporter": "python",
   "pygments_lexer": "ipython3",
   "version": "3.12.11"
  }
 },
 "nbformat": 4,
 "nbformat_minor": 5
}
