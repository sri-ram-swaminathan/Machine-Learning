{
 "cells": [
  {
   "cell_type": "code",
   "execution_count": 1,
   "id": "f625bf77",
   "metadata": {},
   "outputs": [],
   "source": [
    "# Helper functions and imports  \n",
    "words = open(\"names.txt\", 'r').read().splitlines()\n",
    "\n",
    "chars = sorted(list(set(''.join(words))))\n",
    "stoi = {s:i+1 for i,s in enumerate(chars)}\n",
    "stoi['.'] = 0\n",
    "itos = {i:s for s,i in stoi.items()}\n",
    "\n",
    "import random\n",
    "import pandas as pd\n",
    "import matplotlib.pyplot as plt \n",
    "import torch\n",
    "import torch.nn.functional as F "
   ]
  },
  {
   "cell_type": "markdown",
   "id": "fe636c19",
   "metadata": {},
   "source": [
    "**1. Train a trigram language model, i.e. take two characters as an input to predict the 3rd one. Feel free to use either counting or a neural net. Evaluate the loss; Did it improve over a bigram model?**"
   ]
  },
  {
   "cell_type": "code",
   "execution_count": 2,
   "id": "1d5bdd01",
   "metadata": {},
   "outputs": [
    {
     "name": "stdout",
     "output_type": "stream",
     "text": [
      "The inputs are of size: torch.Size([196113, 2])\n",
      "The outputs are of size: torch.Size([196113])\n"
     ]
    }
   ],
   "source": [
    "import torch\n",
    "import torch.nn.functional as F\n",
    "\n",
    "def build_dataset(words):\n",
    "    xs, ys = [], []\n",
    "\n",
    "    for w in words:\n",
    "        chs = ['.'] + list(w) + ['.']\n",
    "        for ch1, ch2, ch3 in zip(chs, chs[1:], chs[2:]):\n",
    "            ix1 = stoi[ch1]\n",
    "            ix2 = stoi[ch2]\n",
    "            ix3 = stoi[ch3]\n",
    "            xs.append([ix1, ix2])  # When both these letters are input\n",
    "            ys.append(ix3)         # The next letter should be this one\n",
    "\n",
    "    xs = torch.tensor(xs)\n",
    "    ys = torch.tensor(ys)\n",
    "\n",
    "    print(f\"The inputs are of size: {xs.shape}\")\n",
    "    print(f\"The outputs are of size: {ys.shape}\")\n",
    "\n",
    "    return xs, ys\n",
    "\n",
    "xs, ys = build_dataset(words)"
   ]
  },
  {
   "cell_type": "code",
   "execution_count": null,
   "id": "4f711d1a",
   "metadata": {},
   "outputs": [
    {
     "name": "stdout",
     "output_type": "stream",
     "text": [
      "Loss at step 1 is 4.1959710121154785\n",
      "Loss at step 2 is 3.9948556423187256\n",
      "Loss at step 3 is 3.8186254501342773\n",
      "Loss at step 4 is 3.665571928024292\n",
      "Loss at step 5 is 3.5345680713653564\n",
      "Loss at step 6 is 3.4241185188293457\n",
      "Loss at step 7 is 3.3318421840667725\n",
      "Loss at step 8 is 3.254584789276123\n",
      "Loss at step 9 is 3.18906307220459\n",
      "Loss at step 10 is 3.1325156688690186\n",
      "Loss at step 11 is 3.0829358100891113\n",
      "Loss at step 12 is 3.0389649868011475\n",
      "Loss at step 13 is 2.9996700286865234\n",
      "Loss at step 14 is 2.9643709659576416\n",
      "Loss at step 15 is 2.93253231048584\n"
     ]
    }
   ],
   "source": [
    "def train_test_trigram(xs, ys, epochs=15, eta=10, lambda_=0.01, test=False, W=None):\n",
    "\n",
    "    if test == False:\n",
    "        g = torch.Generator().manual_seed(2147483647)\n",
    "        W = torch.randn((54, 27), generator=g, requires_grad=True) \n",
    "        for k in range(epochs):\n",
    "            xenc = F.one_hot(xs, num_classes=27).float()\n",
    "            xenc = torch.flatten(xenc, start_dim=1) # Makes it of size (# of examples, 54) so that we can do 2d matrix mult.\n",
    "            logits = xenc @ W \n",
    "            counts = logits.exp()\n",
    "            probs = counts / counts.sum(1, keepdims=True)\n",
    "            loss = -probs[torch.arange(xs.shape[0]), ys].log().mean() + lambda_*(W**2).mean()\n",
    "            print(f\"Loss at step {k+1} is {loss.item()}\")\n",
    "            W.grad = None \n",
    "            loss.backward()\n",
    "            W.data += -eta * W.grad\n",
    "            \n",
    "        return W\n",
    "    else:\n",
    "        xenc = F.one_hot(xs, num_classes=27).float()\n",
    "        xenc = torch.flatten(xenc, start_dim=1)\n",
    "        logits = xenc @ W \n",
    "        counts = logits.exp()\n",
    "        probs = counts / counts.sum(1, keepdims=True)\n",
    "        loss = -probs[torch.arange(xs.shape[0]), ys].log().mean() + 0.01*(W**2).mean() \n",
    "        print(f\"Loss is {loss.item()}\")\n",
    "        return loss.item() \n",
    "\n",
    "W = train_test_trigram(xs, ys, epochs=15, eta=50)"
   ]
  },
  {
   "cell_type": "markdown",
   "id": "f63a6b5d",
   "metadata": {},
   "source": [
    "> - After 15 training steps and that aggressive learning rate, we manage to beat the bigram model. But not by a lot."
   ]
  },
  {
   "cell_type": "markdown",
   "id": "a4eee360",
   "metadata": {},
   "source": [
    "**2. Split up the dataset randomly into 80% train set, 10% dev set, 10% test set. Train the bigram and trigram models only on the training set. Evaluate them on dev and test splits. What can you see?**"
   ]
  },
  {
   "cell_type": "code",
   "execution_count": 4,
   "id": "4686648f",
   "metadata": {},
   "outputs": [
    {
     "name": "stdout",
     "output_type": "stream",
     "text": [
      "True\n"
     ]
    }
   ],
   "source": [
    "random.shuffle(words)\n",
    "\n",
    "n = len(words)\n",
    "train_end = int(0.8*n)\n",
    "dev_end = int(0.9*n)\n",
    "\n",
    "words_train, words_dev, words_test = words[:train_end], words[train_end:dev_end], words[dev_end:]\n",
    "\n",
    "print(len(words_train) + len(words_dev) + len(words_test) == n)"
   ]
  },
  {
   "cell_type": "code",
   "execution_count": 5,
   "id": "c11321ec",
   "metadata": {},
   "outputs": [
    {
     "name": "stdout",
     "output_type": "stream",
     "text": [
      "The inputs are of size: torch.Size([156958, 2])\n",
      "The outputs are of size: torch.Size([156958])\n",
      "Loss at step 1 is 4.1948771476745605\n",
      "Loss at step 2 is 3.3649191856384277\n",
      "Loss at step 3 is 3.0491461753845215\n",
      "Loss at step 4 is 2.878418207168579\n",
      "Loss at step 5 is 2.77414870262146\n",
      "Loss at step 6 is 2.701547622680664\n",
      "Loss at step 7 is 2.6458630561828613\n",
      "Loss at step 8 is 2.6016578674316406\n",
      "Loss at step 9 is 2.5655951499938965\n",
      "Loss at step 10 is 2.5357425212860107\n",
      "Loss at step 11 is 2.510694980621338\n",
      "Loss at step 12 is 2.4894819259643555\n",
      "Loss at step 13 is 2.4713244438171387\n",
      "Loss at step 14 is 2.4556360244750977\n",
      "Loss at step 15 is 2.441939353942871\n"
     ]
    }
   ],
   "source": [
    "xs_train, ys_train = build_dataset(words_train)\n",
    "\n",
    "W_train = train_test_trigram(xs_train, ys_train, epochs=15, eta=50, test=False)"
   ]
  },
  {
   "cell_type": "code",
   "execution_count": 6,
   "id": "adee4769",
   "metadata": {},
   "outputs": [
    {
     "name": "stdout",
     "output_type": "stream",
     "text": [
      "The inputs are of size: torch.Size([19641, 2])\n",
      "The outputs are of size: torch.Size([19641])\n",
      "Loss is 2.4406979084014893\n"
     ]
    }
   ],
   "source": [
    "xs_dev, ys_dev = build_dataset(words_dev)\n",
    "\n",
    "dev_loss = train_test_trigram(xs_dev, ys_dev, test=True, W=W_train)"
   ]
  },
  {
   "cell_type": "code",
   "execution_count": 7,
   "id": "706ead2a",
   "metadata": {},
   "outputs": [
    {
     "name": "stdout",
     "output_type": "stream",
     "text": [
      "The inputs are of size: torch.Size([19514, 2])\n",
      "The outputs are of size: torch.Size([19514])\n",
      "Loss is 2.4194130897521973\n"
     ]
    }
   ],
   "source": [
    "xs_test, ys_test = build_dataset(words_test)\n",
    "\n",
    "test_loss = train_test_trigram(xs_test, ys_test, test=True, W=W_train)"
   ]
  },
  {
   "cell_type": "markdown",
   "id": "89d28599",
   "metadata": {},
   "source": [
    "> - The dev and test errors are comparable to the training errors. There is not much difference. This is a good sign. It means the model is not overfitting on the training data. "
   ]
  },
  {
   "cell_type": "markdown",
   "id": "fd53bbf9",
   "metadata": {},
   "source": [
    "**3. Use the dev set to tune the strength of smoothing (or regularization) for the trigram model - i.e. try many possibilities and see which one works best based on the dev set loss. What patterns can you see in the train and dev set loss as you tune this strength? Take the best setting of the smoothing and evaluate on the test set once and at the end. How good of a loss do you achieve?**"
   ]
  },
  {
   "cell_type": "code",
   "execution_count": 8,
   "id": "4ae67aba",
   "metadata": {},
   "outputs": [
    {
     "name": "stdout",
     "output_type": "stream",
     "text": [
      "Loss at step 1 is 4.185176849365234\n",
      "Loss at step 2 is 3.356907606124878\n",
      "Loss at step 3 is 3.0417609214782715\n",
      "Loss at step 4 is 2.871392011642456\n",
      "Loss at step 5 is 2.7673845291137695\n",
      "Loss at step 6 is 2.6949899196624756\n",
      "Loss at step 7 is 2.639456033706665\n",
      "Loss at step 8 is 2.5953567028045654\n",
      "Loss at step 9 is 2.5593650341033936\n",
      "Loss at step 10 is 2.5295562744140625\n",
      "Loss at step 11 is 2.5045318603515625\n",
      "Loss at step 12 is 2.483328342437744\n",
      "Loss at step 13 is 2.4651708602905273\n",
      "Loss at step 14 is 2.449474811553955\n",
      "Loss at step 15 is 2.435765266418457\n",
      "Loss is 2.4420270919799805\n",
      "Loss is 2.420642614364624\n",
      "Loss at step 1 is 4.18527364730835\n"
     ]
    },
    {
     "name": "stderr",
     "output_type": "stream",
     "text": [
      "C:\\Users\\srira\\AppData\\Local\\Temp\\ipykernel_17284\\2387620845.py:9: FutureWarning: The behavior of DataFrame concatenation with empty or all-NA entries is deprecated. In a future version, this will no longer exclude empty or all-NA columns when determining the result dtypes. To retain the old behavior, exclude the relevant entries before the concat operation.\n",
      "  results = pd.concat([results, row], ignore_index=True)\n"
     ]
    },
    {
     "name": "stdout",
     "output_type": "stream",
     "text": [
      "Loss at step 2 is 3.356987714767456\n",
      "Loss at step 3 is 3.041835308074951\n",
      "Loss at step 4 is 2.87146258354187\n",
      "Loss at step 5 is 2.7674524784088135\n",
      "Loss at step 6 is 2.695056200027466\n",
      "Loss at step 7 is 2.6395206451416016\n",
      "Loss at step 8 is 2.5954201221466064\n",
      "Loss at step 9 is 2.559427499771118\n",
      "Loss at step 10 is 2.529618978500366\n",
      "Loss at step 11 is 2.504594326019287\n",
      "Loss at step 12 is 2.4833908081054688\n",
      "Loss at step 13 is 2.465233087539673\n",
      "Loss at step 14 is 2.4495370388031006\n",
      "Loss at step 15 is 2.4358279705047607\n",
      "Loss is 2.4420135021209717\n",
      "Loss is 2.4206299781799316\n",
      "Loss at step 1 is 4.18527364730835\n",
      "Loss at step 2 is 3.356987714767456\n",
      "Loss at step 3 is 3.041835308074951\n",
      "Loss at step 4 is 2.87146258354187\n",
      "Loss at step 5 is 2.7674524784088135\n",
      "Loss at step 6 is 2.695056200027466\n",
      "Loss at step 7 is 2.6395206451416016\n",
      "Loss at step 8 is 2.5954201221466064\n",
      "Loss at step 9 is 2.559427499771118\n",
      "Loss at step 10 is 2.529618978500366\n",
      "Loss at step 11 is 2.504594326019287\n",
      "Loss at step 12 is 2.4833908081054688\n",
      "Loss at step 13 is 2.465233087539673\n",
      "Loss at step 14 is 2.4495370388031006\n",
      "Loss at step 15 is 2.4358279705047607\n",
      "Loss is 2.4420135021209717\n",
      "Loss is 2.4206299781799316\n",
      "Loss at step 1 is 4.1861467361450195\n",
      "Loss at step 2 is 3.3577096462249756\n",
      "Loss at step 3 is 3.04250168800354\n",
      "Loss at step 4 is 2.8720972537994385\n",
      "Loss at step 5 is 2.768064260482788\n",
      "Loss at step 6 is 2.6956498622894287\n",
      "Loss at step 7 is 2.640101432800293\n",
      "Loss at step 8 is 2.595992088317871\n",
      "Loss at step 9 is 2.5599937438964844\n",
      "Loss at step 10 is 2.5301811695098877\n",
      "Loss at step 11 is 2.505155086517334\n",
      "Loss at step 12 is 2.4839510917663574\n",
      "Loss at step 13 is 2.465794086456299\n",
      "Loss at step 14 is 2.450099229812622\n",
      "Loss at step 15 is 2.436391830444336\n",
      "Loss is 2.441892385482788\n",
      "Loss is 2.420517921447754\n",
      "Loss at step 1 is 4.1948771476745605\n",
      "Loss at step 2 is 3.3649191856384277\n",
      "Loss at step 3 is 3.0491461753845215\n",
      "Loss at step 4 is 2.878418207168579\n",
      "Loss at step 5 is 2.77414870262146\n",
      "Loss at step 6 is 2.701547622680664\n",
      "Loss at step 7 is 2.6458630561828613\n",
      "Loss at step 8 is 2.6016578674316406\n",
      "Loss at step 9 is 2.5655951499938965\n",
      "Loss at step 10 is 2.5357425212860107\n",
      "Loss at step 11 is 2.510694980621338\n",
      "Loss at step 12 is 2.4894819259643555\n",
      "Loss at step 13 is 2.4713244438171387\n",
      "Loss at step 14 is 2.4556360244750977\n",
      "Loss at step 15 is 2.441939353942871\n",
      "Loss is 2.4406979084014893\n",
      "Loss is 2.4194130897521973\n",
      "Loss at step 1 is 4.2821807861328125\n",
      "Loss at step 2 is 3.4359285831451416\n",
      "Loss at step 3 is 3.1136362552642822\n",
      "Loss at step 4 is 2.938922643661499\n",
      "Loss at step 5 is 2.831611156463623\n",
      "Loss at step 6 is 2.7565367221832275\n",
      "Loss at step 7 is 2.698925256729126\n",
      "Loss at step 8 is 2.653243064880371\n",
      "Loss at step 9 is 2.6160454750061035\n",
      "Loss at step 10 is 2.5853302478790283\n",
      "Loss at step 11 is 2.5596158504486084\n",
      "Loss at step 12 is 2.5378830432891846\n",
      "Loss at step 13 is 2.5193099975585938\n",
      "Loss at step 14 is 2.503286123275757\n",
      "Loss at step 15 is 2.489316701889038\n",
      "Loss is 2.430513381958008\n",
      "Loss is 2.410079002380371\n",
      "Loss at step 1 is 5.15521764755249\n",
      "Loss at step 2 is 4.041930675506592\n",
      "Loss at step 3 is 3.584171772003174\n",
      "Loss at step 4 is 3.3193395137786865\n",
      "Loss at step 5 is 3.1446802616119385\n",
      "Loss at step 6 is 3.0186362266540527\n",
      "Loss at step 7 is 2.9231643676757812\n",
      "Loss at step 8 is 2.8496875762939453\n",
      "Loss at step 9 is 2.792133331298828\n",
      "Loss at step 10 is 2.7467169761657715\n",
      "Loss at step 11 is 2.710449695587158\n",
      "Loss at step 12 is 2.681332588195801\n",
      "Loss at step 13 is 2.6577420234680176\n",
      "Loss at step 14 is 2.6385562419891357\n",
      "Loss at step 15 is 2.622845411300659\n",
      "Loss is 2.4297499656677246\n",
      "Loss is 2.414496421813965\n",
      "Loss at step 1 is 13.885586738586426\n",
      "Loss at step 2 is 3.775247812271118\n",
      "Loss at step 3 is 3.064929962158203\n",
      "Loss at step 4 is 2.998948097229004\n",
      "Loss at step 5 is 2.9972829818725586\n",
      "Loss at step 6 is 2.9910073280334473\n",
      "Loss at step 7 is 2.9937758445739746\n",
      "Loss at step 8 is 2.989671230316162\n",
      "Loss at step 9 is 2.9923815727233887\n",
      "Loss at step 10 is 2.989044666290283\n",
      "Loss at step 11 is 2.9916269779205322\n",
      "Loss at step 12 is 2.9886929988861084\n",
      "Loss at step 13 is 2.9911584854125977\n",
      "Loss at step 14 is 2.988468885421753\n",
      "Loss at step 15 is 2.990839719772339\n",
      "Loss is 2.787442207336426\n",
      "Loss is 2.779369592666626\n"
     ]
    }
   ],
   "source": [
    "values = [0, 0.0001, 0.0001, 0.001, 0.01, 0.1, 1.0, 10.0]\n",
    "results = pd.DataFrame(columns=['lambda','dev loss','test loss'], index=[0])\n",
    "\n",
    "for value in values:\n",
    "    W = train_test_trigram(xs_train, ys_train, epochs=15, eta=50, lambda_=value, test=False)\n",
    "    loss_dev = train_test_trigram(xs_dev, ys_dev, test=True, W=W)\n",
    "    loss_test = train_test_trigram(xs_test, ys_test, test=True, W=W)\n",
    "    row = pd.DataFrame({'lambda':value, 'dev loss':loss_dev, 'test loss':loss_test}, index=[0])\n",
    "    results = pd.concat([results, row], ignore_index=True)"
   ]
  },
  {
   "cell_type": "code",
   "execution_count": 13,
   "id": "0915b726",
   "metadata": {},
   "outputs": [
    {
     "data": {
      "image/png": "[encoded data removed]",
      "text/plain": [
       "<Figure size 800x600 with 1 Axes>"
      ]
     },
     "metadata": {},
     "output_type": "display_data"
    }
   ],
   "source": [
    "plt.figure(figsize=(8, 6))\n",
    "\n",
    "plt.plot(results['lambda'], results['dev loss'], label='Dev Loss', marker='o')\n",
    "plt.plot(results['lambda'], results['test loss'], label='Test Loss', marker='s')\n",
    "plt.xscale('log')\n",
    "\n",
    "# Labels and legend\n",
    "plt.xlabel('Lambda (Regularization Strength)')\n",
    "plt.ylabel('Loss')\n",
    "plt.legend()\n",
    "plt.tight_layout()\n",
    "plt.show()"
   ]
  },
  {
   "cell_type": "markdown",
   "id": "93e65fb4",
   "metadata": {},
   "source": [
    "> - We observe that the losses stay constant initially, then decrease and rise sharply.\n",
    "> - The lowest loss (both dev and test) loss is observed @ $\\lambda=0.1$"
   ]
  },
  {
   "cell_type": "code",
   "execution_count": 14,
   "id": "63fabf1b",
   "metadata": {},
   "outputs": [
    {
     "name": "stdout",
     "output_type": "stream",
     "text": [
      "Loss at step 1 is 4.2821807861328125\n",
      "Loss at step 2 is 3.4359285831451416\n",
      "Loss at step 3 is 3.1136362552642822\n",
      "Loss at step 4 is 2.938922643661499\n",
      "Loss at step 5 is 2.831611156463623\n",
      "Loss at step 6 is 2.7565367221832275\n",
      "Loss at step 7 is 2.698925256729126\n",
      "Loss at step 8 is 2.653243064880371\n",
      "Loss at step 9 is 2.6160454750061035\n",
      "Loss at step 10 is 2.5853302478790283\n",
      "Loss at step 11 is 2.5596158504486084\n",
      "Loss at step 12 is 2.5378830432891846\n",
      "Loss at step 13 is 2.5193099975585938\n",
      "Loss at step 14 is 2.503286123275757\n",
      "Loss at step 15 is 2.489316701889038\n",
      "Loss is 2.410079002380371\n"
     ]
    }
   ],
   "source": [
    "W_best = train_test_trigram(xs_train, ys_train, epochs=15, eta=50, lambda_=0.1, test=False)\n",
    "best_test_loss = train_test_trigram(xs_test, ys_test, test=True, W=W_best)"
   ]
  },
  {
   "cell_type": "markdown",
   "id": "b668d862",
   "metadata": {},
   "source": [
    "> - The loss is not significantly smaller than before, from 2.419 --> 2.410, which is ~1% better."
   ]
  },
  {
   "cell_type": "markdown",
   "id": "c5953052",
   "metadata": {},
   "source": [
    "**4. We saw that our 1-hot vectors merely select a row of W, so producing these vectors explicitly feels wasteful. Can you delete our use of F.one_hot in favor of simply indexing into rows of W?**\n",
    "\n",
    "**5. Look up and use F.cross_entropy instead. You should achieve the same result. Can you think of why we'd prefer to use F.cross_entropy instead?**"
   ]
  },
  {
   "cell_type": "code",
   "execution_count": 41,
   "id": "aa0990c7",
   "metadata": {},
   "outputs": [],
   "source": [
    "def modified_train_test(xs, ys, epochs=15, eta=10, test=False, W=None):\n",
    "\n",
    "    if test == False:\n",
    "        g = torch.Generator().manual_seed(2147483647)\n",
    "        W = torch.randn((54, 27), generator=g, requires_grad=True) \n",
    "        for k in range(epochs):\n",
    "            ix1 = xs[:,0]\n",
    "            ix2 = xs[:,1] + 27 \n",
    "            logits = W[ix1] + W[ix2]\n",
    "            loss = F.cross_entropy(logits, ys) + 0.01*(W**2).mean()\n",
    "            print(f\"Loss at step {k+1} is {loss.item()}\")\n",
    "            W.grad = None \n",
    "            loss.backward()\n",
    "            W.data += -eta * W.grad\n",
    "            \n",
    "        return W\n",
    "    else:\n",
    "        ix1 = xs[:,0]\n",
    "        ix2 = xs[:,1]+27\n",
    "        logits = W[ix1] + W[ix2]\n",
    "        loss = F.cross_entropy(logits,ys)\n",
    "        print(f\"Loss is {loss.item()}\")\n",
    "        return loss.item() "
   ]
  },
  {
   "cell_type": "code",
   "execution_count": 42,
   "id": "f33fae59",
   "metadata": {},
   "outputs": [
    {
     "name": "stdout",
     "output_type": "stream",
     "text": [
      "Loss at step 1 is 4.194877624511719\n",
      "Loss at step 2 is 3.364917278289795\n",
      "Loss at step 3 is 3.0491433143615723\n",
      "Loss at step 4 is 2.8784172534942627\n",
      "Loss at step 5 is 2.7741482257843018\n",
      "Loss at step 6 is 2.701547622680664\n",
      "Loss at step 7 is 2.6458630561828613\n",
      "Loss at step 8 is 2.6016576290130615\n",
      "Loss at step 9 is 2.5655946731567383\n",
      "Loss at step 10 is 2.53574275970459\n",
      "Loss at step 11 is 2.510694980621338\n",
      "Loss at step 12 is 2.4894814491271973\n",
      "Loss at step 13 is 2.4713246822357178\n",
      "Loss at step 14 is 2.4556360244750977\n",
      "Loss at step 15 is 2.441939115524292\n"
     ]
    }
   ],
   "source": [
    "W_ce = modified_train_test(xs_train, ys_train, epochs=15, eta=50, test=False)"
   ]
  },
  {
   "cell_type": "code",
   "execution_count": 43,
   "id": "9e4a567e",
   "metadata": {},
   "outputs": [
    {
     "name": "stdout",
     "output_type": "stream",
     "text": [
      "Loss is 2.412074089050293\n"
     ]
    }
   ],
   "source": [
    "ce_test_loss = modified_train_test(xs_test, ys_test, test=True, W=W_ce)"
   ]
  },
  {
   "cell_type": "markdown",
   "id": "c01905a5",
   "metadata": {},
   "source": [
    "> - The results are very similar to the ones obtained manually. But it's preferred to use the function since it directly takes the network's output, computes the softmax probabilities and computes the cross-entropy loss.  "
   ]
  }
 ],
 "metadata": {
  "kernelspec": {
   "display_name": "nn",
   "language": "python",
   "name": "python3"
  },
  "language_info": {
   "codemirror_mode": {
    "name": "ipython",
    "version": 3
   },
   "file_extension": ".py",
   "mimetype": "text/x-python",
   "name": "python",
   "nbconvert_exporter": "python",
   "pygments_lexer": "ipython3",
   "version": "3.12.11"
  }
 },
 "nbformat": 4,
 "nbformat_minor": 5
}
